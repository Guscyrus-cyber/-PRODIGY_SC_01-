{
 "cells": [
  {
   "cell_type": "code",
   "execution_count": null,
   "id": "2d8a2260-80dc-4454-8be7-40ba303307ef",
   "metadata": {},
   "outputs": [],
   "source": []
  },
  {
   "cell_type": "code",
   "execution_count": null,
   "id": "d46840ce-bccc-4fc1-9ffa-9ab98466946c",
   "metadata": {},
   "outputs": [
    {
     "name": "stdout",
     "output_type": "stream",
     "text": [
      "Caesar Cipher Program\n"
     ]
    },
    {
     "name": "stdin",
     "output_type": "stream",
     "text": [
      "Choose an option:\n",
      "1. Encrypt\n",
      "2. Decrypt\n",
      "3. Exit\n",
      " 1\n",
      "Enter the message to encrypt:  I am taking internship through Prodigy InfoTech\n",
      "Enter the shift value (1-25):  3\n"
     ]
    },
    {
     "name": "stdout",
     "output_type": "stream",
     "text": [
      "Encrypted Message: L dp wdnlqj lqwhuqvkls wkurxjk Surgljb LqirWhfk\n"
     ]
    },
    {
     "name": "stdin",
     "output_type": "stream",
     "text": [
      "Choose an option:\n",
      "1. Encrypt\n",
      "2. Decrypt\n",
      "3. Exit\n",
      " 2\n",
      "Enter the message to decrypt:   L dp wdnlqj lqwhuqvkls wkurxjk Surgljb LqirWhfk\n",
      "Enter the shift value (1-25):  3\n"
     ]
    },
    {
     "name": "stdout",
     "output_type": "stream",
     "text": [
      "Decrypted Message:  I am taking internship through Prodigy InfoTech\n"
     ]
    }
   ],
   "source": [
    "def caesar_cipher_encrypt(text, shift):\n",
    "    encrypted_text = \"\"\n",
    "    for char in text:\n",
    "        if char.isalpha():  # Check if the character is a letter\n",
    "            shift_base = ord('A') if char.isupper() else ord('a')\n",
    "            # Shift the character and wrap around within the alphabet\n",
    "            encrypted_text += chr((ord(char) - shift_base + shift) % 26 + shift_base)\n",
    "        else:\n",
    "            encrypted_text += char  # Keep non-alphabet characters unchanged\n",
    "    return encrypted_text\n",
    "\n",
    "def caesar_cipher_decrypt(text, shift):\n",
    "    decrypted_text = \"\"\n",
    "    for char in text:\n",
    "        if char.isalpha():\n",
    "            shift_base = ord('A') if char.isupper() else ord('a')\n",
    "            # Reverse the shift to decrypt\n",
    "            decrypted_text += chr((ord(char) - shift_base - shift) % 26 + shift_base)\n",
    "        else:\n",
    "            decrypted_text += char\n",
    "    return decrypted_text\n",
    "\n",
    "def main():\n",
    "    print(\"Caesar Cipher Program\")\n",
    "    while True:\n",
    "        choice = input(\"Choose an option:\\n1. Encrypt\\n2. Decrypt\\n3. Exit\\n\")\n",
    "        if choice == '1':\n",
    "            message = input(\"Enter the message to encrypt: \")\n",
    "            shift = int(input(\"Enter the shift value (1-25): \"))\n",
    "            encrypted_message = caesar_cipher_encrypt(message, shift)\n",
    "            print(f\"Encrypted Message: {encrypted_message}\")\n",
    "        elif choice == '2':\n",
    "            message = input(\"Enter the message to decrypt: \")\n",
    "            shift = int(input(\"Enter the shift value (1-25): \"))\n",
    "            decrypted_message = caesar_cipher_decrypt(message, shift)\n",
    "            print(f\"Decrypted Message: {decrypted_message}\")\n",
    "        elif choice == '3':\n",
    "            print(\"Exiting the program.\")\n",
    "            break\n",
    "        else:\n",
    "            print(\"Invalid choice, please try again.\")\n",
    "\n",
    "# Run the program\n",
    "main()\n"
   ]
  }
 ],
 "metadata": {
  "kernelspec": {
   "display_name": "Python 3",
   "language": "python",
   "name": "python3"
  },
  "language_info": {
   "codemirror_mode": {
    "name": "ipython",
    "version": 3
   },
   "file_extension": ".py",
   "mimetype": "text/x-python",
   "name": "python",
   "nbconvert_exporter": "python",
   "pygments_lexer": "ipython3",
   "version": "3.10.10"
  }
 },
 "nbformat": 4,
 "nbformat_minor": 5
}
